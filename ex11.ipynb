{
  "metadata": {
    "kernelspec": {
      "name": "python",
      "display_name": "Python (Pyodide)",
      "language": "python"
    },
    "language_info": {
      "codemirror_mode": {
        "name": "python",
        "version": 3
      },
      "file_extension": ".py",
      "mimetype": "text/x-python",
      "name": "python",
      "nbconvert_exporter": "python",
      "pygments_lexer": "ipython3",
      "version": "3.8"
    }
  },
  "nbformat_minor": 4,
  "nbformat": 4,
  "cells": [
    {
      "cell_type": "markdown",
      "source": "1\\. **Radioactive decay chain**\n\n${\\rm Tl}^{208}$ decays to ${\\rm Pb}^{208}$ with a half-life $\\tau$ of 3.052 minutes. Suppose to start with a sample of 1000 Thallium atoms and 0 of Lead atoms.\n\n* Take steps in time of 1 second and at each time-step decide whether each Tl atom has decayed or not, accordingly to the probability $p(t)=1-2^{-t/\\tau}$. Subtract the total number of Tl atoms that decayed at each step from the Tl sample and add them to the Lead one. Plot the evolution of the two sets as a function of time  \n* Repeat the exercise by means of the inverse transform method: draw 1000 random numbers from the non-uniform probability distribution $p(t)=2^{-t/\\tau}\\frac{\\ln 2}{\\tau}$ to represent the times of decay of the 1000 Tl atoms. Make a plot showing the number of atoms that have not decayed as a function of time",
      "metadata": {}
    },
    {
      "cell_type": "code",
      "source": "import numpy as np\nimport matplotlib.pyplot as plt\n\n# Constants\ntau = 3.052 * 60  # Half-life of Thallium in seconds\ntotal_atoms = 1000\n\n# Part 1: Simulation using probability calculation\n\n# Initialize arrays to store the number of Thallium and Lead atoms at each time step\ntime_steps = np.arange(0, 301, 1)  # Time steps in seconds (0 to 5 minutes)\nthallium_atoms = np.zeros(len(time_steps))\nlead_atoms = np.zeros(len(time_steps))\n\n# Set initial conditions\nthallium_atoms[0] = total_atoms\nlead_atoms[0] = 0\n\n# Simulate the decay process\nfor i, t in enumerate(time_steps[1:]):\n    p = 1 - 2 ** (-t / tau)\n    decayed_atoms = np.random.binomial(thallium_atoms[i], p)\n    thallium_atoms[i+1] = thallium_atoms[i] - decayed_atoms\n    lead_atoms[i+1] = lead_atoms[i] + decayed_atoms\n\n# Plot the results\nplt.plot(time_steps, thallium_atoms, label='Thallium')\nplt.plot(time_steps, lead_atoms, label='Lead')\nplt.xlabel('Time (seconds)')\nplt.ylabel('Number of Atoms')\nplt.title('Thallium and Lead Decay')\nplt.legend()\nplt.show()\n\n# Part 2: Simulation using inverse transform method\n\ndef inv_decay_cdf(y):\n    return - tau * np.log2(1-y)\n\nfig = plt.figure()\nx = np.arange(0,2000,1)\n\n# Perform the inverse of the inverse transform method\ntotal_atoms = 1000\nathoms_prob = np.random.random(total_atoms)\ndacay_time = inv_decay_cdf(athoms_prob)\n\ndacay_time_sorted = np.sort(dacay_time)[::-1]\n\nx = np.arange(0,len(dacay_time_sorted),1)\nplt.plot(dacay_time_sorted,x)\nplt.title('Times of decay of the 1000 Thallium atoms')\nplt.xlabel('Times [s]')\nplt.ylabel('Thallium atoms')\nplt.show()",
      "metadata": {
        "trusted": true
      },
      "outputs": [],
      "execution_count": null
    },
    {
      "cell_type": "markdown",
      "source": "2\\. **Monte Carlo integration: hit/miss vs mean value method**\n\nConsider the function: \n\n$$f(x) =\\sin^2{\\left( \\frac{1}{1-x} \\right)}$$\n\n* Plot the function and compute the integral of $f(x)$ between 0 and 2 with the hit/miss method. Evaluate the error of your estimate (hint: repeat the integral $N$ times, and from the distribution of the integrals take the mean value and the standard deviation, the latter rescaled by the appropriate factor)\n* Repeat the integral with the mean value method. Evaluate the error and compare it with the previous one.",
      "metadata": {}
    },
    {
      "cell_type": "code",
      "source": "import numpy as np\nimport matplotlib.pyplot as plt\n\ndef f(x):\n    return (np.sin(1 / (1 - x))) ** 2\n\nn = 20000\n\n# Plot function\ntest = np.linspace(0, 2, n)\nplt.figure()\nplt.plot(test, f(test))\nplt.xlabel(\"X\")\nplt.ylabel(\"Y = f(X)\")\nplt.show()\n\n# Define parameters\nh, a, b = 1, 0, 2\n\n# Define the error calculating function\ndef calc_sigma(x_min, x_max, h, n, m, integral_f):\n    # Calculate the integral m times\n    integrs = np.array([integral_f(h, x_min, x_max, n) for mi in np.arange(m)])\n    # Estimate sigma^2 as <I^2> - <I>^2\n    return np.sqrt(np.mean(integrs**2) - np.mean(integrs)**2)\n\n# Calculate integral hit miss\ndef hint_miss_integral(h, a, b, n):\n    y = h * np.random.rand(n)\n    x = a + ( (b - a) * np.random.rand(n) )\n    c = np.sum([1 for i in range(n) if y[i] < f(x[i])])\n    return (c / n) * h * (b - a)\n\nI = hint_miss_integral(h, a, b, n)\nprint(\"Using the hit/miss method, the estimated value of the integral is %.3f\" % I)\n\nm = 9\nsigma = calc_sigma(a, b, h, n, m, hint_miss_integral)\nprint(\"The estimated error using the hit/miss method is %.5f\" % sigma)\n\n# Calculate integral mean value\ndef mean_value_integral(h, a, b, n):\n    x = a + ( (b - a) * np.random.rand(n) )\n    return ((b - a) / n) * np.sum( f(x) )\n\nI = mean_value_integral(h, a, b, n)\nprint(\"Using the mean value method, the estimated value of the integral is %.3f\" % I)\n\nm = 9\nsigma = calc_sigma(a, b, h, n, m, mean_value_integral)\nprint(\"The estimated error using the mean value method is %.5f\" % sigma)",
      "metadata": {
        "trusted": true
      },
      "outputs": [],
      "execution_count": null
    },
    {
      "cell_type": "markdown",
      "source": "3\\. **Monte Carlo integration in high dimension**\n\n* Compute the area of a circle of unit radius, by integrating the function:\n\n$$\nf(x,y)=\n\\left\\{\n\\begin{array}{ll}\n      1 & x^2+y^2\\le 1 \\\\\n      0 & {\\rm elsewhere}\n\\end{array} \n\\right.\n$$\n\n* Generalize the result for a 10D sphere.",
      "metadata": {}
    },
    {
      "cell_type": "code",
      "source": "import numpy as np\n\ndef monte_carlo_sphere(radius, num_points, dimensions=2):\n    points = np.random.uniform(-radius, radius, size=(num_points, dimensions))\n    inside_circle = np.linalg.norm(points, axis=1) <= radius\n    \n    circle_area = np.mean(inside_circle) * ((2 * radius) ** dimensions)\n    return circle_area\n\nradius = 1\nnum_points = 100000\n\narea = monte_carlo_sphere(radius, num_points)\nprint(\"The area of the circle is:\", area)\n\nmd_volume = monte_carlo_sphere(radius, num_points, 10)\nprint(\"The multidimensional volume of the 10D sphere is:\", md_volume)",
      "metadata": {
        "trusted": true
      },
      "outputs": [],
      "execution_count": null
    },
    {
      "cell_type": "markdown",
      "source": "4\\. **Monte Carlo integration with importance sampling** \n\nCalculate the value of the integral:\n\n$$\nI=\\int_0^1 \\frac{x^{-1/2}}{e^x+1} dx\n$$\n\nusing the importance sampling method with $w(x)=1/\\sqrt{x}$. You should expect a result around 0.84.",
      "metadata": {}
    },
    {
      "cell_type": "code",
      "source": "import numpy as np\nfrom scipy import stats\nfrom scipy.integrate import quad\n\ndef f(x):\n    return (x**(-1/2)) / (np.exp(x) + 1)\n\ndef w(x):\n    return 1 / np.sqrt(x)\n\ndef generalized_integral_w(x):\n    return 2 * x ** 0.5\n\ndef integral_w(a, b):\n    return generalized_integral_w(b) - generalized_integral_w(a)\n\ndef importance_sampling_integral(num_samples):\n    w_value = integral_w(0, 1)\n    \n    # Use the exponential distribution\n    x = stats.powerlaw.rvs(0.5, size = num_samples)\n    \n    integral_sum = np.sum(f(x) / w(x))\n    integral = w_value / num_samples * integral_sum\n    \n    return integral\n\nnum_samples = 10000\n\nresult = importance_sampling_integral(num_samples)\nprint(\"The integral I is:\", result)",
      "metadata": {
        "trusted": true
      },
      "outputs": [],
      "execution_count": null
    }
  ]
}