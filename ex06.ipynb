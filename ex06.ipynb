{
 "cells": [
  {
   "cell_type": "markdown",
   "metadata": {},
   "source": [
    "1\\. **Text files**\n",
    "\n",
    "Perform the following operations on plain `txt` files:\n",
    "\n",
    "+ create a list of integrer numbers and then save it to a text file named `data_int.txt`. Run the `cat` command to print the content of the file.\n",
    "+ create a matrix of 5x5 floats and then save it to a text file named `data_float.txt`. Use the `cat` command to print the content of the file.\n",
    "+ load the `txt` file of the previous point and convert it to a `csv` file by hand."
   ]
  },
  {
   "cell_type": "code",
   "execution_count": 3,
   "metadata": {},
   "outputs": [
    {
     "name": "stdout",
     "output_type": "stream",
     "text": [
      "Integer numbers have been saved to data_int.txt. Here's what it looks like:\n",
      "1\n",
      "2\n",
      "3\n",
      "4\n",
      "5\n",
      "Float matrix has been saved to data_float.txt. Here's what it looks like:\n",
      "0.1 0.2 0.3 0.4 0.5\n",
      "0.6 0.7 0.8 0.9 1.0\n",
      "1.1 1.2 1.3 1.4 1.5\n",
      "1.6 1.7 1.8 1.9 2.0\n",
      "2.1 2.2 2.3 2.4 2.5\n",
      "The float matrix has been converted to data_float.csv\n"
     ]
    }
   ],
   "source": [
    "# Operation 1: Creating a list of integer numbers\n",
    "integer_numbers = [1, 2, 3, 4, 5]\n",
    "with open(\"data_int.txt\", \"w\") as file:\n",
    "    for number in integer_numbers:\n",
    "        file.write(str(number) + \"\\n\")\n",
    "print(\"Integer numbers have been saved to data_int.txt. Here's what it looks like:\")\n",
    "# Now, let's print the content of the file using the cat command\n",
    "!cat data_int.txt\n",
    "\n",
    "# Operation 2: Creating a matrix of 5x5 floats\n",
    "matrix = [[0.1, 0.2, 0.3, 0.4, 0.5],\n",
    "          [0.6, 0.7, 0.8, 0.9, 1.0],\n",
    "          [1.1, 1.2, 1.3, 1.4, 1.5],\n",
    "          [1.6, 1.7, 1.8, 1.9, 2.0],\n",
    "          [2.1, 2.2, 2.3, 2.4, 2.5]]\n",
    "with open(\"data_float.txt\", \"w\") as file:\n",
    "    for row in matrix:\n",
    "        file.write(\" \".join([str(num) for num in row]) + \"\\n\")\n",
    "print(\"Float matrix has been saved to data_float.txt. Here's what it looks like:\")\n",
    "# Let's print the content of the file using the cat command once again\n",
    "!cat data_float.txt\n",
    "\n",
    "# Operation 3: Converting the float matrix to a CSV file\n",
    "import csv\n",
    "\n",
    "# First, load the text file\n",
    "loaded_matrix = []\n",
    "with open(\"data_float.txt\", \"r\") as file:\n",
    "    for line in file:\n",
    "        loaded_matrix.append([float(num) for num in line.strip().split()])\n",
    "\n",
    "# Now, let's convert it to a CSV file\n",
    "with open(\"data_float.csv\", \"w\", newline=\"\") as file:\n",
    "    writer = csv.writer(file)\n",
    "    for row in loaded_matrix:\n",
    "        writer.writerow(row)\n",
    "print(\"The float matrix has been converted to data_float.csv\")"
   ]
  },
  {
   "cell_type": "markdown",
   "metadata": {},
   "source": [
    "2\\. **JSON files**\n",
    "\n",
    "Load the file `user_data.json`, which can be found at:\n",
    "\n",
    "- https://www.dropbox.com/s/sz5klcdpckc39hd/user_data.json\n",
    "\n",
    "and filter the data by the \"CreditCardType\" when it equals to \"American Express\". Than save the data to a new CSV file."
   ]
  },
  {
   "cell_type": "code",
   "execution_count": 12,
   "metadata": {},
   "outputs": [],
   "source": [
    "import json\n",
    "import csv\n",
    "\n",
    "filename = \"filtered_data.csv\"\n",
    "\n",
    "# Fetch and load the JSON data\n",
    "with open(\"user_data.json\", \"r\") as file:\n",
    "    data = json.load(file)\n",
    "\n",
    "# Filter the data based on the \"CreditCardType\" field\n",
    "filtered_data = [user for user in data if user.get(\"CreditCardType\") == \"American Express\"]\n",
    "\n",
    "# Save the filtered data to a CSV file\n",
    "with open(filename, \"w\", newline=\"\") as file:\n",
    "    writer = csv.DictWriter(file, fieldnames=filtered_data[0].keys())\n",
    "    writer.writeheader()\n",
    "    writer.writerows(filtered_data)"
   ]
  },
  {
   "cell_type": "markdown",
   "metadata": {},
   "source": [
    "3\\. **CSV files with Pandas**\n",
    "\n",
    "Load the file from this url:\n",
    "\n",
    "- https://www.dropbox.com/s/kgshemfgk22iy79/mushrooms_categorized.csv\n",
    "\n",
    "with Pandas. \n",
    "\n",
    "+ explore and print the DataFrame\n",
    "+ calculate, using `groupby()`, the average value of each feature, separately for each class\n",
    "+ save the file in a JSON format."
   ]
  },
  {
   "cell_type": "code",
   "execution_count": 13,
   "metadata": {},
   "outputs": [
    {
     "name": "stdout",
     "output_type": "stream",
     "text": [
      "      class  cap-shape  cap-surface  cap-color  bruises  odor  \\\n",
      "0         1          5            2          4        1     6   \n",
      "1         0          5            2          9        1     0   \n",
      "2         0          0            2          8        1     3   \n",
      "3         1          5            3          8        1     6   \n",
      "4         0          5            2          3        0     5   \n",
      "...     ...        ...          ...        ...      ...   ...   \n",
      "8119      0          3            2          4        0     5   \n",
      "8120      0          5            2          4        0     5   \n",
      "8121      0          2            2          4        0     5   \n",
      "8122      1          3            3          4        0     8   \n",
      "8123      0          5            2          4        0     5   \n",
      "\n",
      "      gill-attachment  gill-spacing  gill-size  gill-color  ...  \\\n",
      "0                   1             0          1           4  ...   \n",
      "1                   1             0          0           4  ...   \n",
      "2                   1             0          0           5  ...   \n",
      "3                   1             0          1           5  ...   \n",
      "4                   1             1          0           4  ...   \n",
      "...               ...           ...        ...         ...  ...   \n",
      "8119                0             0          0          11  ...   \n",
      "8120                0             0          0          11  ...   \n",
      "8121                0             0          0           5  ...   \n",
      "8122                1             0          1           0  ...   \n",
      "8123                0             0          0          11  ...   \n",
      "\n",
      "      stalk-surface-below-ring  stalk-color-above-ring  \\\n",
      "0                            2                       7   \n",
      "1                            2                       7   \n",
      "2                            2                       7   \n",
      "3                            2                       7   \n",
      "4                            2                       7   \n",
      "...                        ...                     ...   \n",
      "8119                         2                       5   \n",
      "8120                         2                       5   \n",
      "8121                         2                       5   \n",
      "8122                         1                       7   \n",
      "8123                         2                       5   \n",
      "\n",
      "      stalk-color-below-ring  veil-type  veil-color  ring-number  ring-type  \\\n",
      "0                          7          0           2            1          4   \n",
      "1                          7          0           2            1          4   \n",
      "2                          7          0           2            1          4   \n",
      "3                          7          0           2            1          4   \n",
      "4                          7          0           2            1          0   \n",
      "...                      ...        ...         ...          ...        ...   \n",
      "8119                       5          0           1            1          4   \n",
      "8120                       5          0           0            1          4   \n",
      "8121                       5          0           1            1          4   \n",
      "8122                       7          0           2            1          0   \n",
      "8123                       5          0           1            1          4   \n",
      "\n",
      "      spore-print-color  population  habitat  \n",
      "0                     2           3        5  \n",
      "1                     3           2        1  \n",
      "2                     3           2        3  \n",
      "3                     2           3        5  \n",
      "4                     3           0        1  \n",
      "...                 ...         ...      ...  \n",
      "8119                  0           1        2  \n",
      "8120                  0           4        2  \n",
      "8121                  0           1        2  \n",
      "8122                  7           4        2  \n",
      "8123                  4           1        2  \n",
      "\n",
      "[8124 rows x 23 columns]\n"
     ]
    }
   ],
   "source": [
    "import pandas as pd\n",
    "\n",
    "# Load the mushrooms_categorized.csv file into a DataFrame\n",
    "data = pd.read_csv(\"mushrooms_categorized.csv\")\n",
    "\n",
    "# Explore and print the DataFrame\n",
    "print(data)\n",
    "\n",
    "# Calculate the average value of each feature, separately for each class using groupby()\n",
    "averages = data.groupby(\"class\").mean()\n",
    "\n",
    "# Save the DataFrame with average values to a JSON file\n",
    "averages.to_json(\"averages.json\")"
   ]
  },
  {
   "cell_type": "markdown",
   "metadata": {},
   "source": [
    "4\\. **Reading a database**\n",
    "\n",
    "Get the database `sakila.db` from the lecture `06_dataio.ipynb`, and import the table `actors` as a Pandas dataframe. Using the dataframe, count how many actors have a first name that begins with `A`.\n",
    "\n",
    "*Hint:* use the Series `.str` method to apply the Python string methods to the elements of a Series, see [documentation](https://pandas.pydata.org/docs/reference/api/pandas.Series.str.html)."
   ]
  },
  {
   "cell_type": "code",
   "execution_count": 16,
   "metadata": {},
   "outputs": [
    {
     "name": "stdout",
     "output_type": "stream",
     "text": [
      "The number of actors with a first name starting with 'A' is: 13\n"
     ]
    }
   ],
   "source": [
    "import pandas as pd\n",
    "import sqlite3\n",
    "\n",
    "# Connect to the sakila.db database\n",
    "conn = sqlite3.connect(\"dat/sakila.db\")\n",
    "\n",
    "# Import the 'actors' table as a Pandas DataFrame\n",
    "query = \"SELECT * FROM actor\"\n",
    "actors_df = pd.read_sql_query(query, conn)\n",
    "\n",
    "# Count how many actors have a first name that begins with 'A'\n",
    "count_actors_with_a = actors_df[actors_df['first_name'].str.startswith('A')].shape[0]\n",
    "\n",
    "# Display the count\n",
    "print(f\"The number of actors with a first name starting with 'A' is: {count_actors_with_a}\")"
   ]
  },
  {
   "cell_type": "markdown",
   "metadata": {},
   "source": [
    "5\\. **Reading the credit card numbers**\n",
    "\n",
    "Get the binary file named `credit_card.dat` from this address:\n",
    "\n",
    "- https://www.dropbox.com/s/8m0syw2tkul3dap/credit_card.dat\n",
    "\n",
    "and convert the data into the real credit card number, knowing that:\n",
    "- each line corresponds to a credit card number, which consists of 16 characters (which are numbers in the 0-9 range) divided in 4 blocks, with a whitespace between each block\n",
    "- each character is written using a 6 bit binary representation (including the whitespace)\n",
    "- the final 4 bits of each line are a padding used to determine the end of the line, and can be ignored\n",
    "\n",
    "*Hint*: convert the binary numbers to the decimal representation first, and then use the `chr()` function to convert the latter to a char"
   ]
  },
  {
   "cell_type": "code",
   "execution_count": 17,
   "metadata": {},
   "outputs": [
    {
     "name": "stdout",
     "output_type": "stream",
     "text": [
      "7648 5673 3775 2271\n",
      "3257 8247 3354 2266\n",
      "2722 0001 4011 6652\n",
      "0661 3063 3742 3150\n",
      "0432 1608 1462 4742\n",
      "5827 2027 8785 7303\n",
      "5774 8528 2087 1117\n",
      "8140 1210 6352 2845\n",
      "5764 1133 7301 7100\n",
      "6456 1737 4126 6726\n",
      "1228 8631 7382 0000\n",
      "7051 0160 5374 3166\n",
      "0618 3587 1630 6376\n",
      "1545 5454 7444 5636\n",
      "6735 3116 3202 6834\n",
      "7287 5011 1547 8413\n",
      "7033 2607 3328 4200\n",
      "2568 5244 1874 5024\n",
      "1684 2253 7570 7118\n",
      "0672 2576 0575 6631\n",
      "6332 8353 8787 1340\n",
      "1813 3361 1175 4211\n",
      "2477 6450 8840 2368\n",
      "5512 3505 2563 1326\n",
      "3083 7882 0621 0025\n",
      "4521 5148 8045 0334\n",
      "7563 3654 8713 5787\n",
      "8324 2664 0476 5561\n",
      "0565 2504 7168 3510\n",
      "5107 5507 1767 0738\n",
      "2462 1821 2448 1443\n",
      "2788 0638 6861 6554\n",
      "5851 5873 5474 0547\n",
      "0670 1004 4013 2655\n",
      "5874 5506 3048 0806\n",
      "2805 5401 8462 1260\n",
      "5083 8406 6310 1862\n",
      "1076 1445 3013 2266\n",
      "8440 4804 4844 5277\n",
      "4758 6141 0686 1387\n",
      "7586 0675 0315 2568\n",
      "2544 1258 7432 5165\n",
      "3474 5023 4434 5626\n",
      "1410 0270 0434 5086\n",
      "7315 4446 1104 4215\n",
      "0224 7742 8300 0266\n",
      "0170 2700 3145 0640\n",
      "2006 2437 8054 1600\n",
      "8142 4055 1776 0026\n",
      "3026 7380 1241 1084\n",
      "\n"
     ]
    }
   ],
   "source": [
    "# Open the binary file in read mode\n",
    "with open(\"credit_card.dat\", \"rb\") as file:\n",
    "    # Read the binary data from the file\n",
    "    binary_data = file.read().decode()\n",
    "\n",
    "# Split the binary data into lines\n",
    "lines = binary_data.splitlines()\n",
    "\n",
    "# Convert each line to the real credit card number\n",
    "credit_cards = []\n",
    "for line in lines:\n",
    "    # Remove the padding bits at the end of each line\n",
    "    line = line[:-4]\n",
    "    \n",
    "    # Split the line into 4 blocks\n",
    "    blocks = [line[i:i+6] for i in range(0, len(line), 6)]\n",
    "    \n",
    "    # Convert each block from binary to decimal and then to a character\n",
    "    card_number = ''.join([chr(int(block, 2)) for block in blocks])\n",
    "    \n",
    "    # Add the credit card number to the list\n",
    "    credit_cards.append(card_number)\n",
    "\n",
    "# Print the converted credit card numbers\n",
    "for card in credit_cards:\n",
    "    print(card)"
   ]
  },
  {
   "cell_type": "markdown",
   "metadata": {},
   "source": [
    "6\\. **Write data to a binary file**\n",
    "\n",
    "a) Start from the `data/data_000637.txt` file that we have used during the previous lectures, and convert it to a binary file according to the format defined below:"
   ]
  },
  {
   "cell_type": "code",
   "execution_count": null,
   "metadata": {},
   "outputs": [],
   "source": [
    "from IPython.display import Image\n",
    "Image(\"images/data_format.png\")"
   ]
  },
  {
   "cell_type": "markdown",
   "metadata": {},
   "source": [
    "*Hints*:\n",
    "- Read the first 10 lines using Pandas\n",
    "- Iterate over the DataFrame rows\n",
    "- For every row, \"pack\" the values (features) into a single 64-bit word, according to the format specified above. Use bit-wise shifts and operators to do so.\n",
    "- Write each 64-bit word to a binary file. You can use `struct` in this way:\n",
    "```\n",
    "binary_file.write( struct.pack('<q', word) )\n",
    "```\n",
    "where `word` is the 64-bit word.\n",
    "- Close the file after completing the loop.\n",
    "\n",
    "b) Check that the binary file is correctly written by reading it with the code used in the lecture `06_dataio.ipynb`, and verify that the content of the `txt` and binary files is consistent.\n",
    "\n",
    "c) What is the difference of the size on disk between equivalent `txt` and binary files?"
   ]
  },
  {
   "cell_type": "code",
   "execution_count": null,
   "metadata": {},
   "outputs": [],
   "source": []
  }
 ],
 "metadata": {
  "kernelspec": {
   "display_name": "Python 3",
   "language": "python",
   "name": "python3"
  },
  "language_info": {
   "codemirror_mode": {
    "name": "ipython",
    "version": 3
   },
   "file_extension": ".py",
   "mimetype": "text/x-python",
   "name": "python",
   "nbconvert_exporter": "python",
   "pygments_lexer": "ipython3",
   "version": "3.6.8"
  }
 },
 "nbformat": 4,
 "nbformat_minor": 2
}
