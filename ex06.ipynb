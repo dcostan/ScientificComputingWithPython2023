{
 "cells": [
  {
   "cell_type": "markdown",
   "metadata": {},
   "source": [
    "1\\. **Text files**\n",
    "\n",
    "Perform the following operations on plain `txt` files:\n",
    "\n",
    "+ create a list of integrer numbers and then save it to a text file named `data_int.txt`. Run the `cat` command to print the content of the file.\n",
    "+ create a matrix of 5x5 floats and then save it to a text file named `data_float.txt`. Use the `cat` command to print the content of the file.\n",
    "+ load the `txt` file of the previous point and convert it to a `csv` file by hand."
   ]
  },
  {
   "cell_type": "code",
   "execution_count": null,
   "metadata": {},
   "outputs": [],
   "source": [
    "# Operation 1: Creating a list of integer numbers\n",
    "integer_numbers = [1, 2, 3, 4, 5]\n",
    "with open(\"data_int.txt\", \"w\") as file:\n",
    "    for number in integer_numbers:\n",
    "        file.write(str(number) + \"\\n\")\n",
    "print(\"Integer numbers have been saved to data_int.txt. Here's what it looks like:\")\n",
    "# Now, let's print the content of the file using the cat command\n",
    "!cat data_int.txt\n",
    "\n",
    "# Operation 2: Creating a matrix of 5x5 floats\n",
    "matrix = [[0.1, 0.2, 0.3, 0.4, 0.5],\n",
    "          [0.6, 0.7, 0.8, 0.9, 1.0],\n",
    "          [1.1, 1.2, 1.3, 1.4, 1.5],\n",
    "          [1.6, 1.7, 1.8, 1.9, 2.0],\n",
    "          [2.1, 2.2, 2.3, 2.4, 2.5]]\n",
    "with open(\"data_float.txt\", \"w\") as file:\n",
    "    for row in matrix:\n",
    "        file.write(\" \".join([str(num) for num in row]) + \"\\n\")\n",
    "print(\"Float matrix has been saved to data_float.txt. Here's what it looks like:\")\n",
    "# Let's print the content of the file using the cat command once again\n",
    "!cat data_float.txt\n",
    "\n",
    "# Operation 3: Converting the float matrix to a CSV file\n",
    "import csv\n",
    "\n",
    "# First, load the text file\n",
    "loaded_matrix = []\n",
    "with open(\"data_float.txt\", \"r\") as file:\n",
    "    for line in file:\n",
    "        loaded_matrix.append([float(num) for num in line.strip().split()])\n",
    "\n",
    "# Now, let's convert it to a CSV file\n",
    "with open(\"data_float.csv\", \"w\", newline=\"\") as file:\n",
    "    writer = csv.writer(file)\n",
    "    for row in loaded_matrix:\n",
    "        writer.writerow(row)\n",
    "print(\"The float matrix has been converted to data_float.csv\")"
   ]
  },
  {
   "cell_type": "markdown",
   "metadata": {},
   "source": [
    "2\\. **JSON files**\n",
    "\n",
    "Load the file `user_data.json`, which can be found at:\n",
    "\n",
    "- https://www.dropbox.com/s/sz5klcdpckc39hd/user_data.json\n",
    "\n",
    "and filter the data by the \"CreditCardType\" when it equals to \"American Express\". Than save the data to a new CSV file."
   ]
  },
  {
   "cell_type": "code",
   "execution_count": null,
   "metadata": {},
   "outputs": [],
   "source": [
    "import json\n",
    "import csv\n",
    "\n",
    "filename = \"filtered_data.csv\"\n",
    "\n",
    "# Fetch and load the JSON data\n",
    "with open(\"user_data.json\", \"r\") as file:\n",
    "    data = json.load(file)\n",
    "\n",
    "# Filter the data based on the \"CreditCardType\" field\n",
    "filtered_data = [user for user in data if user.get(\"CreditCardType\") == \"American Express\"]\n",
    "\n",
    "# Save the filtered data to a CSV file\n",
    "with open(filename, \"w\", newline=\"\") as file:\n",
    "    writer = csv.DictWriter(file, fieldnames=filtered_data[0].keys())\n",
    "    writer.writeheader()\n",
    "    writer.writerows(filtered_data)"
   ]
  },
  {
   "cell_type": "markdown",
   "metadata": {},
   "source": [
    "3\\. **CSV files with Pandas**\n",
    "\n",
    "Load the file from this url:\n",
    "\n",
    "- https://www.dropbox.com/s/kgshemfgk22iy79/mushrooms_categorized.csv\n",
    "\n",
    "with Pandas. \n",
    "\n",
    "+ explore and print the DataFrame\n",
    "+ calculate, using `groupby()`, the average value of each feature, separately for each class\n",
    "+ save the file in a JSON format."
   ]
  },
  {
   "cell_type": "code",
   "execution_count": null,
   "metadata": {},
   "outputs": [],
   "source": [
    "import pandas as pd\n",
    "\n",
    "# Load the mushrooms_categorized.csv file into a DataFrame\n",
    "data = pd.read_csv(\"mushrooms_categorized.csv\")\n",
    "\n",
    "# Explore and print the DataFrame\n",
    "print(data)\n",
    "\n",
    "# Calculate the average value of each feature, separately for each class using groupby()\n",
    "averages = data.groupby(\"class\").mean()\n",
    "\n",
    "# Save the DataFrame with average values to a JSON file\n",
    "averages.to_json(\"averages.json\")"
   ]
  },
  {
   "cell_type": "markdown",
   "metadata": {},
   "source": [
    "4\\. **Reading a database**\n",
    "\n",
    "Get the database `sakila.db` from the lecture `06_dataio.ipynb`, and import the table `actors` as a Pandas dataframe. Using the dataframe, count how many actors have a first name that begins with `A`.\n",
    "\n",
    "*Hint:* use the Series `.str` method to apply the Python string methods to the elements of a Series, see [documentation](https://pandas.pydata.org/docs/reference/api/pandas.Series.str.html)."
   ]
  },
  {
   "cell_type": "code",
   "execution_count": null,
   "metadata": {},
   "outputs": [],
   "source": [
    "import pandas as pd\n",
    "import sqlite3\n",
    "\n",
    "# Connect to the sakila.db database\n",
    "conn = sqlite3.connect(\"dat/sakila.db\")\n",
    "\n",
    "# Import the 'actors' table as a Pandas DataFrame\n",
    "query = \"SELECT * FROM actor\"\n",
    "actors_df = pd.read_sql_query(query, conn)\n",
    "\n",
    "# Count how many actors have a first name that begins with 'A'\n",
    "count_actors_with_a = actors_df[actors_df['first_name'].str.startswith('A')].shape[0]\n",
    "\n",
    "# Display the count\n",
    "print(f\"The number of actors with a first name starting with 'A' is: {count_actors_with_a}\")"
   ]
  },
  {
   "cell_type": "markdown",
   "metadata": {},
   "source": [
    "5\\. **Reading the credit card numbers**\n",
    "\n",
    "Get the binary file named `credit_card.dat` from this address:\n",
    "\n",
    "- https://www.dropbox.com/s/8m0syw2tkul3dap/credit_card.dat\n",
    "\n",
    "and convert the data into the real credit card number, knowing that:\n",
    "- each line corresponds to a credit card number, which consists of 16 characters (which are numbers in the 0-9 range) divided in 4 blocks, with a whitespace between each block\n",
    "- each character is written using a 6 bit binary representation (including the whitespace)\n",
    "- the final 4 bits of each line are a padding used to determine the end of the line, and can be ignored\n",
    "\n",
    "*Hint*: convert the binary numbers to the decimal representation first, and then use the `chr()` function to convert the latter to a char"
   ]
  },
  {
   "cell_type": "code",
   "execution_count": null,
   "metadata": {},
   "outputs": [],
   "source": [
    "# Open the binary file in read mode\n",
    "with open(\"credit_card.dat\", \"rb\") as file:\n",
    "    # Read the binary data from the file\n",
    "    binary_data = file.read().decode()\n",
    "\n",
    "# Split the binary data into lines\n",
    "lines = binary_data.splitlines()\n",
    "\n",
    "# Convert each line to the real credit card number\n",
    "credit_cards = []\n",
    "for line in lines:\n",
    "    # Remove the padding bits at the end of each line\n",
    "    line = line[:-4]\n",
    "    \n",
    "    # Split the line into 4 blocks\n",
    "    blocks = [line[i:i+6] for i in range(0, len(line), 6)]\n",
    "    \n",
    "    # Convert each block from binary to decimal and then to a character\n",
    "    card_number = ''.join([chr(int(block, 2)) for block in blocks])\n",
    "    \n",
    "    # Add the credit card number to the list\n",
    "    credit_cards.append(card_number)\n",
    "\n",
    "# Print the converted credit card numbers\n",
    "for card in credit_cards:\n",
    "    print(card)"
   ]
  },
  {
   "cell_type": "markdown",
   "metadata": {},
   "source": [
    "6\\. **Write data to a binary file**\n",
    "\n",
    "a) Start from the `data/data_000637.txt` file that we have used during the previous lectures, and convert it to a binary file according to the format defined below:"
   ]
  },
  {
   "cell_type": "code",
   "execution_count": null,
   "metadata": {},
   "outputs": [],
   "source": [
    "from IPython.display import Image\n",
    "Image(\"images/data_format.png\")"
   ]
  },
  {
   "cell_type": "markdown",
   "metadata": {},
   "source": [
    "*Hints*:\n",
    "- Read the first 10 lines using Pandas\n",
    "- Iterate over the DataFrame rows\n",
    "- For every row, \"pack\" the values (features) into a single 64-bit word, according to the format specified above. Use bit-wise shifts and operators to do so.\n",
    "- Write each 64-bit word to a binary file. You can use `struct` in this way:\n",
    "```\n",
    "binary_file.write( struct.pack('<q', word) )\n",
    "```\n",
    "where `word` is the 64-bit word.\n",
    "- Close the file after completing the loop.\n",
    "\n",
    "b) Check that the binary file is correctly written by reading it with the code used in the lecture `06_dataio.ipynb`, and verify that the content of the `txt` and binary files is consistent.\n",
    "\n",
    "c) What is the difference of the size on disk between equivalent `txt` and binary files?"
   ]
  },
  {
   "cell_type": "code",
   "execution_count": null,
   "metadata": {},
   "outputs": [],
   "source": [
    "import pandas as pd\n",
    "import struct\n",
    "\n",
    "# Read the first 10 lines using Pandas\n",
    "df = pd.read_csv('data/data_000637.txt', sep=',', nrows=10)\n",
    "\n",
    "# Open a binary file to write the converted data\n",
    "with open('data/converted_data.dat', 'wb') as binary_file:\n",
    "    # Iterate over the DataFrame rows\n",
    "    for _, row in df.iterrows():\n",
    "        # Extract the values from the row\n",
    "        head = row['HEAD']\n",
    "        fpga = row['FPGA']\n",
    "        tdc_chan = row['TDC_CHANNEL']\n",
    "        orb_cnt = row['ORBIT_CNT']\n",
    "        bx = row['BX_COUNTER']\n",
    "        tdc_meas = row['TDC_MEAS']\n",
    "        \n",
    "        # Pack the values into a single 64-bit word\n",
    "        word = (head << 62) | (fpga << 58) | (tdc_chan << 49) | (orb_cnt << 17) | (bx << 5) | tdc_meas\n",
    "        \n",
    "        # Write the 64-bit word to the binary file\n",
    "        binary_file.write(struct.pack('<q', word))\n",
    "\n",
    "# Close the binary file after completing the loop\n",
    "binary_file.close()"
   ]
  },
  {
   "cell_type": "code",
   "execution_count": null,
   "metadata": {},
   "outputs": [],
   "source": []
  }
 ],
 "metadata": {
  "kernelspec": {
   "display_name": "Python 3 (ipykernel)",
   "language": "python",
   "name": "python3"
  },
  "language_info": {
   "codemirror_mode": {
    "name": "ipython",
    "version": 3
   },
   "file_extension": ".py",
   "mimetype": "text/x-python",
   "name": "python",
   "nbconvert_exporter": "python",
   "pygments_lexer": "ipython3",
   "version": "3.12.0"
  }
 },
 "nbformat": 4,
 "nbformat_minor": 4
}
